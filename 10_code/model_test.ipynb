{
 "cells": [
  {
   "cell_type": "code",
   "execution_count": null,
   "metadata": {},
   "outputs": [],
   "source": [
    "import torch\n",
    "from transformers import (\n",
    "    BertForSequenceClassification,\n",
    "    AutoTokenizer,\n",
    "    AdamW,\n",
    "    get_linear_schedule_with_warmup,\n",
    ")\n",
    "from torch.utils.data import DataLoader, RandomSampler, SequentialSampler, TensorDataset\n",
    "import pandas as pd\n",
    "import numpy as np\n",
    "\n",
    "\n",
    "from sklearn.preprocessing import LabelEncoder\n",
    "from sklearn.metrics import accuracy_score\n",
    "from sklearn.metrics import f1_score, precision_score, recall_score\n",
    "import matplotlib.pyplot as plt\n"
   ]
  },
  {
   "cell_type": "code",
   "execution_count": null,
   "metadata": {},
   "outputs": [],
   "source": [
    "# Load the BERT tokenizer\n",
    "tokenizer = AutoTokenizer.from_pretrained(\"medicalai/ClinicalBERT\") #Not using this tho\n",
    "\n",
    "# Assuming you have a test dataset CSV file\n",
    "test_data = pd.read_csv(\"/workspaces/NLP_Proj2/01_intermediate-files/synthetic_test_data.csv\")\n",
    "\n",
    "#print(test_data.head(1))"
   ]
  },
  {
   "cell_type": "code",
   "execution_count": null,
   "metadata": {},
   "outputs": [],
   "source": [
    "import re\n",
    "\n",
    "# Preprocess the test data (similar to training data prep)\n",
    "test_data[\"Text\"] = test_data[\"Text\"].str.lower()\n",
    "clean_test_messages = test_data[\"Text\"]\n",
    "clean_test_text = []\n",
    "for message in clean_test_messages:\n",
    "    pattern = r\"(\\S+\\s){0,5}\\S*(smok|tobacco|cigar|pack|ppd)\\S*(\\s\\S+){0,5}\"\n",
    "    match = re.search(pattern, message, re.IGNORECASE)\n",
    "    if match:\n",
    "        matched_text = match.group(0)\n",
    "        clean_test_text.append(matched_text)\n",
    "    else:\n",
    "        clean_test_text.append(message)\n",
    "\n",
    "test_data[\"Text\"] = clean_test_text"
   ]
  },
  {
   "cell_type": "code",
   "execution_count": null,
   "metadata": {},
   "outputs": [],
   "source": [
    "print(test_data['Text'].head())\n",
    "#test_data['Text'].to_csv('text_data.csv', index=False)"
   ]
  },
  {
   "cell_type": "code",
   "execution_count": null,
   "metadata": {},
   "outputs": [],
   "source": [
    "test_data[\"Smoking Status\"] = test_data[\"Smoking Status\"].replace(\"SMOKER\", \"PAST SMOKER\")"
   ]
  },
  {
   "cell_type": "code",
   "execution_count": null,
   "metadata": {},
   "outputs": [],
   "source": [
    "le = LabelEncoder()\n",
    "test_data[\"Smoking_enc\"] = le.fit_transform(test_data[\"Smoking Status\"])\n",
    "display(test_data.sample(6))"
   ]
  },
  {
   "cell_type": "code",
   "execution_count": null,
   "metadata": {},
   "outputs": [],
   "source": [
    "# Tokenize and encode sentences in the test dataset\n",
    "def get_sentence_embedding(sentences):\n",
    "    indexed_tokens = [\n",
    "        tokenizer.encode(\n",
    "            sentence, add_special_tokens=True, truncation=True, max_length=512\n",
    "        )\n",
    "        for sentence in sentences\n",
    "    ]\n",
    "    return indexed_tokens\n",
    "\n",
    "sentences_test = test_data[\"Text\"]\n",
    "indexed_tokens_test = get_sentence_embedding(sentences_test)\n",
    "print(indexed_tokens_test[0])"
   ]
  },
  {
   "cell_type": "code",
   "execution_count": null,
   "metadata": {},
   "outputs": [],
   "source": [
    "# Pad the tokenized sentences\n",
    "max_length_test = max(len(tokens) for tokens in indexed_tokens_test)\n",
    "padded_tokens_test = [tokens + [0] * (max_length_test - len(tokens)) for tokens in indexed_tokens_test]"
   ]
  },
  {
   "cell_type": "code",
   "execution_count": null,
   "metadata": {},
   "outputs": [],
   "source": [
    "# Convert to tensors\n",
    "input_ids_test = torch.tensor(padded_tokens_test)\n",
    "#print(input_ids_test[0])"
   ]
  },
  {
   "cell_type": "code",
   "execution_count": null,
   "metadata": {},
   "outputs": [],
   "source": [
    "attention_masks_test = torch.tensor([[int(token != 0) for token in tokens] for tokens in padded_tokens_test])"
   ]
  },
  {
   "cell_type": "code",
   "execution_count": null,
   "metadata": {},
   "outputs": [],
   "source": [
    "labels_test = torch.tensor(test_data[\"Smoking_enc\"].values)\n",
    "\n",
    "# Check input shapes\n",
    "print(f\"Input IDs shape: {input_ids_test.shape}\")\n",
    "print(f\"Attention Masks shape: {attention_masks_test.shape}\")\n",
    "print(f\"Labels shape: {labels_test.shape}\")\n"
   ]
  },
  {
   "cell_type": "code",
   "execution_count": null,
   "metadata": {},
   "outputs": [],
   "source": [
    "# Create DataLoader for test data\n",
    "test_dataset = TensorDataset(input_ids_test, attention_masks_test, labels_test)\n",
    "test_dataloader = DataLoader(test_dataset, batch_size=16)"
   ]
  },
  {
   "cell_type": "code",
   "execution_count": null,
   "metadata": {},
   "outputs": [],
   "source": [
    "# Load trained model\n",
    "model_path = \"/workspaces/NLP_Proj2/model_test_syn_23.pth\"\n",
    "\n",
    "model = BertForSequenceClassification.from_pretrained(\"medicalai/ClinicalBERT\", num_labels=4)\n",
    "model.load_state_dict(torch.load(model_path))\n",
    "\n",
    "device = torch.device(\"cuda\" if torch.cuda.is_available() else \"cpu\")\n",
    "model.to(device)\n",
    "model.eval()  "
   ]
  },
  {
   "cell_type": "code",
   "execution_count": null,
   "metadata": {},
   "outputs": [],
   "source": [
    "# Initialize lists to store metrics for each batch\n",
    "batch_accuracy = []\n",
    "batch_precision = []\n",
    "batch_recall = []\n",
    "batch_f1 = []\n",
    "\n",
    "for batch in test_dataloader:\n",
    "    input_ids_batch, attention_masks_batch, labels_batch = batch\n",
    "    input_ids_batch = input_ids_batch.to(device)\n",
    "    attention_masks_batch = attention_masks_batch.to(device)\n",
    "    labels_batch = labels_batch.to(device)\n",
    "\n",
    "    with torch.no_grad():\n",
    "        outputs = model(input_ids_batch, attention_mask=attention_masks_batch, labels=labels_batch)\n",
    "        logits = outputs.logits\n",
    "        preds = torch.argmax(logits, dim=1).flatten()\n",
    "\n",
    "        # Calculate and store batch metrics\n",
    "        accuracy = accuracy_score(labels_batch.cpu(), preds.cpu())\n",
    "        precision = precision_score(labels_batch.cpu(), preds.cpu(), average='weighted', zero_division=0)\n",
    "        recall = recall_score(labels_batch.cpu(), preds.cpu(), average='weighted', zero_division=0)\n",
    "        f1 = f1_score(labels_batch.cpu(), preds.cpu(), average='weighted', zero_division=0)\n",
    "\n",
    "        batch_accuracy.append(accuracy)\n",
    "        batch_precision.append(precision)\n",
    "        batch_recall.append(recall)\n",
    "        batch_f1.append(f1)\n",
    "\n",
    "# Plotting\n",
    "batches = range(1, len(batch_accuracy) + 1)\n",
    "plt.figure(figsize=(12, 8))\n",
    "\n",
    "plt.subplot(2, 2, 1)\n",
    "plt.plot(batches, batch_accuracy, 'b-')\n",
    "plt.title('Batch-wise Test Accuracy')\n",
    "plt.xlabel('Batch')\n",
    "plt.ylabel('Accuracy')\n",
    "\n",
    "plt.subplot(2, 2, 2)\n",
    "plt.plot(batches, batch_precision, 'g-')\n",
    "plt.title('Batch-wise Test Precision')\n",
    "plt.xlabel('Batch')\n",
    "plt.ylabel('Precision')\n",
    "\n",
    "plt.subplot(2, 2, 3)\n",
    "plt.plot(batches, batch_recall, 'r-')\n",
    "plt.title('Batch-wise Test Recall')\n",
    "plt.xlabel('Batch')\n",
    "plt.ylabel('Recall')\n",
    "\n",
    "plt.subplot(2, 2, 4)\n",
    "plt.plot(batches, batch_f1, 'y-')\n",
    "plt.title('Batch-wise Test F1 Score')\n",
    "plt.xlabel('Batch')\n",
    "plt.ylabel('F1 Score')\n",
    "\n",
    "plt.tight_layout()\n",
    "plt.show()"
   ]
  },
  {
   "cell_type": "code",
   "execution_count": null,
   "metadata": {},
   "outputs": [],
   "source": [
    "print(f\"Precision: {precision:.4f}\")\n",
    "print(f\"Recall: {recall:.4f}\")\n",
    "print(f\"F1 Score: {f1:.4f}\")\n"
   ]
  }
 ],
 "metadata": {
  "kernelspec": {
   "display_name": "Python 3",
   "language": "python",
   "name": "python3"
  },
  "language_info": {
   "codemirror_mode": {
    "name": "ipython",
    "version": 3
   },
   "file_extension": ".py",
   "mimetype": "text/x-python",
   "name": "python",
   "nbconvert_exporter": "python",
   "pygments_lexer": "ipython3",
   "version": "3.10.13"
  }
 },
 "nbformat": 4,
 "nbformat_minor": 2
}
