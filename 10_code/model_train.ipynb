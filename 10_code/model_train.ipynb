{
 "cells": [
  {
   "cell_type": "code",
   "execution_count": 1,
   "metadata": {},
   "outputs": [
    {
     "name": "stderr",
     "output_type": "stream",
     "text": [
      "/home/codespace/.python/current/lib/python3.10/site-packages/tqdm/auto.py:21: TqdmWarning: IProgress not found. Please update jupyter and ipywidgets. See https://ipywidgets.readthedocs.io/en/stable/user_install.html\n",
      "  from .autonotebook import tqdm as notebook_tqdm\n"
     ]
    }
   ],
   "source": [
    "import torch\n",
    "from transformers import (\n",
    "    BertForSequenceClassification,\n",
    "    AutoTokenizer,\n",
    "    AdamW,\n",
    "    get_linear_schedule_with_warmup,\n",
    ")\n",
    "from torch.utils.data import DataLoader, RandomSampler, SequentialSampler, TensorDataset\n",
    "import pandas as pd\n",
    "\n",
    "\n",
    "from sklearn.preprocessing import LabelEncoder\n",
    "from sklearn.metrics import accuracy_score\n",
    "from sklearn.metrics import f1_score, precision_score, recall_score"
   ]
  },
  {
   "cell_type": "code",
   "execution_count": 2,
   "metadata": {},
   "outputs": [],
   "source": [
    "# Load the BERT tokenizer\n",
    "tokenizer = AutoTokenizer.from_pretrained(\"medicalai/ClinicalBERT\")"
   ]
  },
  {
   "cell_type": "code",
   "execution_count": 3,
   "metadata": {},
   "outputs": [],
   "source": [
    "data = pd.read_csv(\n",
    "    \"/workspaces/NLP_Proj2/01_intermediate-files/smokers_train_all_separated.csv\"\n",
    ")"
   ]
  },
  {
   "cell_type": "code",
   "execution_count": 4,
   "metadata": {},
   "outputs": [],
   "source": [
    "data[\"Smoking Status\"] = data[\"Smoking Status\"].replace(\"SMOKER\", \"PAST SMOKER\")"
   ]
  },
  {
   "cell_type": "code",
   "execution_count": 5,
   "metadata": {},
   "outputs": [
    {
     "data": {
      "text/html": [
       "<div>\n",
       "<style scoped>\n",
       "    .dataframe tbody tr th:only-of-type {\n",
       "        vertical-align: middle;\n",
       "    }\n",
       "\n",
       "    .dataframe tbody tr th {\n",
       "        vertical-align: top;\n",
       "    }\n",
       "\n",
       "    .dataframe thead th {\n",
       "        text-align: right;\n",
       "    }\n",
       "</style>\n",
       "<table border=\"1\" class=\"dataframe\">\n",
       "  <thead>\n",
       "    <tr style=\"text-align: right;\">\n",
       "      <th></th>\n",
       "      <th>Smoking Status</th>\n",
       "      <th>Text</th>\n",
       "      <th>Smoking_enc</th>\n",
       "    </tr>\n",
       "  </thead>\n",
       "  <tbody>\n",
       "    <tr>\n",
       "      <th>375</th>\n",
       "      <td>UNKNOWN</td>\n",
       "      <td>admission date: 08/22/2002 report status:  dis...</td>\n",
       "      <td>3</td>\n",
       "    </tr>\n",
       "    <tr>\n",
       "      <th>78</th>\n",
       "      <td>PAST SMOKER</td>\n",
       "      <td>report status: unsigned admission date: 10/20/...</td>\n",
       "      <td>2</td>\n",
       "    </tr>\n",
       "    <tr>\n",
       "      <th>348</th>\n",
       "      <td>UNKNOWN</td>\n",
       "      <td>admission date: 12/29/2000 report status:  dis...</td>\n",
       "      <td>3</td>\n",
       "    </tr>\n",
       "    <tr>\n",
       "      <th>343</th>\n",
       "      <td>UNKNOWN</td>\n",
       "      <td>report status: unsigned\\ned discharge notifica...</td>\n",
       "      <td>3</td>\n",
       "    </tr>\n",
       "    <tr>\n",
       "      <th>379</th>\n",
       "      <td>UNKNOWN</td>\n",
       "      <td>report status: unsigned\\ned discharge notifica...</td>\n",
       "      <td>3</td>\n",
       "    </tr>\n",
       "    <tr>\n",
       "      <th>34</th>\n",
       "      <td>NON-SMOKER</td>\n",
       "      <td>admission date: 06/19/1991 report status: sign...</td>\n",
       "      <td>1</td>\n",
       "    </tr>\n",
       "  </tbody>\n",
       "</table>\n",
       "</div>"
      ],
      "text/plain": [
       "    Smoking Status                                               Text  \\\n",
       "375        UNKNOWN  admission date: 08/22/2002 report status:  dis...   \n",
       "78     PAST SMOKER  report status: unsigned admission date: 10/20/...   \n",
       "348        UNKNOWN  admission date: 12/29/2000 report status:  dis...   \n",
       "343        UNKNOWN  report status: unsigned\\ned discharge notifica...   \n",
       "379        UNKNOWN  report status: unsigned\\ned discharge notifica...   \n",
       "34      NON-SMOKER  admission date: 06/19/1991 report status: sign...   \n",
       "\n",
       "     Smoking_enc  \n",
       "375            3  \n",
       "78             2  \n",
       "348            3  \n",
       "343            3  \n",
       "379            3  \n",
       "34             1  "
      ]
     },
     "metadata": {},
     "output_type": "display_data"
    }
   ],
   "source": [
    "le = LabelEncoder()\n",
    "data[\"Smoking_enc\"] = le.fit_transform(data[\"Smoking Status\"])\n",
    "display(data.sample(6))"
   ]
  },
  {
   "cell_type": "code",
   "execution_count": 6,
   "metadata": {},
   "outputs": [
    {
     "name": "stdout",
     "output_type": "stream",
     "text": [
      "Smoking Status    object\n",
      "Text              object\n",
      "Smoking_enc        int64\n",
      "dtype: object\n"
     ]
    }
   ],
   "source": [
    "data[\"Smoking_enc\"] = data[\"Smoking_enc\"].astype(\"int64\")\n",
    "print(data.dtypes)"
   ]
  },
  {
   "cell_type": "code",
   "execution_count": 7,
   "metadata": {},
   "outputs": [
    {
     "name": "stdout",
     "output_type": "stream",
     "text": [
      "UNKNOWN           252\n",
      "NON-SMOKER         66\n",
      "PAST SMOKER        45\n",
      "CURRENT SMOKER     35\n",
      "Name: Smoking Status, dtype: int64\n"
     ]
    }
   ],
   "source": [
    "print(data[\"Smoking Status\"].value_counts())"
   ]
  },
  {
   "cell_type": "code",
   "execution_count": 8,
   "metadata": {},
   "outputs": [],
   "source": [
    "import re\n",
    "\n",
    "clean_messages = data[\"Text\"].str.lower()\n",
    "clean_text = []\n",
    "for message in clean_messages:\n",
    "    pattern = r\"(\\S+\\s){0,5}\\S*(smok|tobacco|cigar|pack|ppd)\\S*(\\s\\S+){0,5}\"\n",
    "    match = re.search(pattern, message, re.IGNORECASE)\n",
    "\n",
    "    if match:\n",
    "        matched_text = match.group(0)\n",
    "        clean_text.append(matched_text)\n",
    "    else:\n",
    "        # sentence = \"no information\"\n",
    "        # clean_text.append(sentence)\n",
    "        clean_text.append(message)\n",
    "\n",
    "data[\"Text\"] = clean_text\n",
    "print(data[\"Text\"])\n"
   ]
  },
  {
   "cell_type": "code",
   "execution_count": 13,
   "metadata": {},
   "outputs": [
    {
     "data": {
      "text/plain": [
       "512"
      ]
     },
     "execution_count": 13,
     "metadata": {},
     "output_type": "execute_result"
    }
   ],
   "source": [
    "def get_sentence_embedding(sentences):\n",
    "    indexed_tokens = [\n",
    "        tokenizer.encode(\n",
    "            sentence, add_special_tokens=True, truncation=True, max_length=512\n",
    "        )\n",
    "        for sentence in sentences\n",
    "    ]\n",
    "    return indexed_tokens\n",
    "\n",
    "\n",
    "sentences = data[\"Text\"]\n",
    "\n",
    "indexed_tokens = get_sentence_embedding(sentences)\n",
    "#print(indexed_tokens)\n",
    "len(indexed_tokens[10])"
   ]
  },
  {
   "cell_type": "code",
   "execution_count": 15,
   "metadata": {},
   "outputs": [
    {
     "name": "stdout",
     "output_type": "stream",
     "text": [
      "tensor([[  101, 17553, 14042,  ..., 11324,   117,   102],\n",
      "        [  101, 84153, 13664,  ...,   119, 10361,   102],\n",
      "        [  101, 17553, 14042,  ..., 11823, 10111,   102],\n",
      "        ...,\n",
      "        [  101, 84153, 13664,  ..., 10230,   119,   102],\n",
      "        [  101, 84153, 13664,  ...,   186,   114,   102],\n",
      "        [  101, 84153, 13664,  ..., 10109, 10162,   102]])\n"
     ]
    }
   ],
   "source": [
    "# Pad the sequences\n",
    "# for each token find the length keep doing until you find max length\n",
    "max_length = max(len(tokens) for tokens in indexed_tokens)\n",
    "# lets say max length is 10 and the sentence has 8. subtract to get 2. so add 2 zeros to orignal tokens\n",
    "padded_tokens = [tokens + [0] * (max_length - len(tokens)) for tokens in indexed_tokens]\n",
    "\n",
    "# Create the tensor\n",
    "input_ids_tensor = torch.tensor(padded_tokens)\n",
    "print(input_ids_tensor)"
   ]
  },
  {
   "cell_type": "code",
   "execution_count": 16,
   "metadata": {},
   "outputs": [
    {
     "name": "stdout",
     "output_type": "stream",
     "text": [
      "tensor([[1, 1, 1,  ..., 1, 1, 1],\n",
      "        [1, 1, 1,  ..., 1, 1, 1],\n",
      "        [1, 1, 1,  ..., 1, 1, 1],\n",
      "        ...,\n",
      "        [1, 1, 1,  ..., 1, 1, 1],\n",
      "        [1, 1, 1,  ..., 1, 1, 1],\n",
      "        [1, 1, 1,  ..., 1, 1, 1]])\n"
     ]
    }
   ],
   "source": [
    "# True in python is the integer 1 and by doing int we get 1.\n",
    "attention_masks = [[int(token != 0) for token in tokens] for tokens in padded_tokens]\n",
    "attention_masks_tensor = torch.tensor(attention_masks)\n",
    "print(attention_masks_tensor)"
   ]
  },
  {
   "cell_type": "code",
   "execution_count": 17,
   "metadata": {},
   "outputs": [
    {
     "name": "stdout",
     "output_type": "stream",
     "text": [
      "Input IDs shape: torch.Size([398, 512])\n",
      "Attention Masks shape: torch.Size([398, 512])\n",
      "Labels shape: torch.Size([398])\n"
     ]
    }
   ],
   "source": [
    "# the .values returns the numpy representation of the data so it converst teh column into a numpy array\n",
    "labels = torch.tensor(data[\"Smoking_enc\"].values)\n",
    "\n",
    "# Check input shapes\n",
    "print(f\"Input IDs shape: {input_ids_tensor.shape}\")\n",
    "print(f\"Attention Masks shape: {attention_masks_tensor.shape}\")\n",
    "print(f\"Labels shape: {labels.shape}\")"
   ]
  },
  {
   "cell_type": "code",
   "execution_count": 18,
   "metadata": {},
   "outputs": [
    {
     "name": "stdout",
     "output_type": "stream",
     "text": [
      "(tensor([   101,  84153,  13664,    131,  10907,    120,  10193,    120,  10436,\n",
      "         17553,  14042,    131,  14775,  27224,  92555,  13664,    131,  10907,\n",
      "           120,  10233,    120,  10436,  27949,  10142,  84153,    131,    181,\n",
      "         10129,    119,  20944,  10124,    169,  10843,    118,  10924,    118,\n",
      "         12898,    117,  15263,  17416,    117,  14042,  11841,  15127,  44207,\n",
      "         45157,  10161,  10106,  29731,  17530,    192,  10551,    117,  14042,\n",
      "         11841,  31206,  10908,  22544,  10157,  10155,  36388,  26194,  10123,\n",
      "           192,  11003,    117,  10169,  10151,  86923,  17530, 107433,  10108,\n",
      "         10197,    110,  10135,  37241,  65921,  11424,  14590,    117,  10479,\n",
      "         41175,  10169,  11639,  12352,  46111,  10123,  13716,  14010,  10108,\n",
      "         33989,  54006,    117,  94230,  38576,    117,  10111,  15765,    118,\n",
      "         33336,  14010,    119,  11486,  10108,  12254,  56507,    131,  10105,\n",
      "         38607,  10393,    169,  11486,  10108,  15127,  44207,  45157,  10161,\n",
      "         10106,  29731,  17530,    192,  10551,  10106,  10597,  10111,  10581,\n",
      "           113,  31391,  63329,  71393,  79344,  32038,  50796,  11813,  10106,\n",
      "         10548,    114,  10111,  20961,  10134,  40345,  10114,  10151,  17555,\n",
      "         18141,  10106,  10450,  10169,  62319,  10108,  10173,  63952,  11942,\n",
      "         21736,  31562,    119,  10261,  10134,  40345,  10114,  10105,  11735,\n",
      "         10415,  17004,  10106,  10186,    120,  12458,  10142,  15826,  30434,\n",
      "        105676,  10113,  10111,  62319,  10108,  10173,  63952,  11942,  21736,\n",
      "         31562,    119,  10261,  10134,  15165,  37604,  77796,  10111,  26391,\n",
      "         39393,  11912,  10160,  10189,  10635,  10111,  10134,  20961,  71338,\n",
      "         16589,    119,  23050,  46917,  41163,  33926,  19980,  10160,  10189,\n",
      "         10635,  23127,  10462,    110,  10114,  10923,    110,  12153,  12126,\n",
      "           117,  10462,    110,  10114,  10923,    110,  11284, 104686,  10161,\n",
      "         12153,  15672,  10139,  89387,  10230,    117,  10923,    110,  10114,\n",
      "         10832,    110,  15607,    118,  12153,  15672,  10139,  89387,  10230,\n",
      "           117,  10407,    110,  11284, 104686,  10161,  12153,  11322,  46382,\n",
      "         10465,  10575,  38507,    117,  10111,  11284, 104686,  10161,  10111,\n",
      "         27920,  14191,  10462,    110,  13448,  31206,  10908,  22544,  10157,\n",
      "         10152,  15880,    119,  10151,    173,  16575,  33414,  10638,  31253,\n",
      "         23127,  10151,  86923,  17530, 107433,  10108,  10258,    110,    119,\n",
      "         10261,  78074,    169,  31206,  10908,  22544,  10157,  10155,  36388,\n",
      "         26194,  10123,    192,  11003,  10155,  17094,    119,  67680,  17021,\n",
      "         10157,  10169,  12153,  29868,  20933,  14678,  10157,  22544,  10157,\n",
      "         53183,  16822,  10123,  15672,  10139,  89387,  10230,    117,  82427,\n",
      "         14786,  13499,  50766,  10115,  26194,  10123,  10114,  13448,  31206,\n",
      "         10908,  22544,  10157,    117,  82427,  14786,  13499,  50766,  10115,\n",
      "         26194,  10123,  10114,  10209,  10108,  10105,  12153,  11322,  46382,\n",
      "         10465,  10575,  38507,    119,  10105,  50766,  10115,  26194,  10806,\n",
      "         10309,  14289,  10114,  10347,  12558,  16065,  10111,  10108,  23247,\n",
      "         21905,    119,  10106,  10105,  22021,  53590,  10376,  13127,    117,\n",
      "         10261,  10393,  10374,  10160,  34108,  14045,  32066,  96573,  11046,\n",
      "         10146,  10226,  11404,  12953,  51720,  10319,  10393,  10590,  45369,\n",
      "         10169,  11284,  10425,  98988,  13315,    119,  10261,  10393,  10374,\n",
      "         19083,  72331,  84153,  10107,  10114,  51433,  12223,  19436,  17004,\n",
      "         10142,  10173,  63952,  11942,  21736,  31562,  10108,  10151,  30816,\n",
      "         36265,  10106,  10907,    120,  12479,  10111,  11052,    120,  12749,\n",
      "         10111,  11059,  14234,  11003,  20750,  11764,  10105,  17967,  10108,\n",
      "         10105,  10924,    119,  10261,  10393,  10374,  11003,    118,  24109,\n",
      "         13660,  10874,  25461,  57654,  32239,    117,  10248,  95916,  24188,\n",
      "         10161,  10192,  14526,  63158,  10415,  13906,  54609,  32239,    117,\n",
      "         10111,  10192,  14526,  53162,  11003,  10114,  11598,  13465,  10178,\n",
      "         16903,  10473,  10192,    187,  89848,  10111,  10192,  25512,  25881,\n",
      "           113,  14779,  10261,  10393,  10374,  11598,    118,  34397,  20299,\n",
      "         10106,  10226,  11357,  15561,  37476,  46264,  11143,  10106,  10105,\n",
      "         17781,  10924,    114,    119,  10226,  17627,  14416,    102]), tensor([1, 1, 1, 1, 1, 1, 1, 1, 1, 1, 1, 1, 1, 1, 1, 1, 1, 1, 1, 1, 1, 1, 1, 1,\n",
      "        1, 1, 1, 1, 1, 1, 1, 1, 1, 1, 1, 1, 1, 1, 1, 1, 1, 1, 1, 1, 1, 1, 1, 1,\n",
      "        1, 1, 1, 1, 1, 1, 1, 1, 1, 1, 1, 1, 1, 1, 1, 1, 1, 1, 1, 1, 1, 1, 1, 1,\n",
      "        1, 1, 1, 1, 1, 1, 1, 1, 1, 1, 1, 1, 1, 1, 1, 1, 1, 1, 1, 1, 1, 1, 1, 1,\n",
      "        1, 1, 1, 1, 1, 1, 1, 1, 1, 1, 1, 1, 1, 1, 1, 1, 1, 1, 1, 1, 1, 1, 1, 1,\n",
      "        1, 1, 1, 1, 1, 1, 1, 1, 1, 1, 1, 1, 1, 1, 1, 1, 1, 1, 1, 1, 1, 1, 1, 1,\n",
      "        1, 1, 1, 1, 1, 1, 1, 1, 1, 1, 1, 1, 1, 1, 1, 1, 1, 1, 1, 1, 1, 1, 1, 1,\n",
      "        1, 1, 1, 1, 1, 1, 1, 1, 1, 1, 1, 1, 1, 1, 1, 1, 1, 1, 1, 1, 1, 1, 1, 1,\n",
      "        1, 1, 1, 1, 1, 1, 1, 1, 1, 1, 1, 1, 1, 1, 1, 1, 1, 1, 1, 1, 1, 1, 1, 1,\n",
      "        1, 1, 1, 1, 1, 1, 1, 1, 1, 1, 1, 1, 1, 1, 1, 1, 1, 1, 1, 1, 1, 1, 1, 1,\n",
      "        1, 1, 1, 1, 1, 1, 1, 1, 1, 1, 1, 1, 1, 1, 1, 1, 1, 1, 1, 1, 1, 1, 1, 1,\n",
      "        1, 1, 1, 1, 1, 1, 1, 1, 1, 1, 1, 1, 1, 1, 1, 1, 1, 1, 1, 1, 1, 1, 1, 1,\n",
      "        1, 1, 1, 1, 1, 1, 1, 1, 1, 1, 1, 1, 1, 1, 1, 1, 1, 1, 1, 1, 1, 1, 1, 1,\n",
      "        1, 1, 1, 1, 1, 1, 1, 1, 1, 1, 1, 1, 1, 1, 1, 1, 1, 1, 1, 1, 1, 1, 1, 1,\n",
      "        1, 1, 1, 1, 1, 1, 1, 1, 1, 1, 1, 1, 1, 1, 1, 1, 1, 1, 1, 1, 1, 1, 1, 1,\n",
      "        1, 1, 1, 1, 1, 1, 1, 1, 1, 1, 1, 1, 1, 1, 1, 1, 1, 1, 1, 1, 1, 1, 1, 1,\n",
      "        1, 1, 1, 1, 1, 1, 1, 1, 1, 1, 1, 1, 1, 1, 1, 1, 1, 1, 1, 1, 1, 1, 1, 1,\n",
      "        1, 1, 1, 1, 1, 1, 1, 1, 1, 1, 1, 1, 1, 1, 1, 1, 1, 1, 1, 1, 1, 1, 1, 1,\n",
      "        1, 1, 1, 1, 1, 1, 1, 1, 1, 1, 1, 1, 1, 1, 1, 1, 1, 1, 1, 1, 1, 1, 1, 1,\n",
      "        1, 1, 1, 1, 1, 1, 1, 1, 1, 1, 1, 1, 1, 1, 1, 1, 1, 1, 1, 1, 1, 1, 1, 1,\n",
      "        1, 1, 1, 1, 1, 1, 1, 1, 1, 1, 1, 1, 1, 1, 1, 1, 1, 1, 1, 1, 1, 1, 1, 1,\n",
      "        1, 1, 1, 1, 1, 1, 1, 1]), tensor(0))\n"
     ]
    }
   ],
   "source": [
    "# Create a TensorDataset\n",
    "# (tensor(input_ids), tensor(attention_mask), tensor(1))\n",
    "dataset = TensorDataset(input_ids_tensor, attention_masks_tensor, labels)\n",
    "print(dataset[3])"
   ]
  },
  {
   "cell_type": "code",
   "execution_count": 21,
   "metadata": {},
   "outputs": [
    {
     "data": {
      "text/plain": [
       "398"
      ]
     },
     "execution_count": 21,
     "metadata": {},
     "output_type": "execute_result"
    }
   ],
   "source": [
    "len(input_ids_tensor)"
   ]
  },
  {
   "cell_type": "code",
   "execution_count": 22,
   "metadata": {},
   "outputs": [],
   "source": [
    "def create_dataset(input_ids, attention_masks, labels, start_idx, end_idx):\n",
    "    return TensorDataset(\n",
    "        input_ids[start_idx:end_idx], \n",
    "        attention_masks[start_idx:end_idx], \n",
    "        labels[start_idx:end_idx]\n",
    "    )\n",
    "\n",
    "def get_data_from_dataset(dataset, idx):\n",
    "    return dataset.tensors[0][idx], dataset.tensors[1][idx], dataset.tensors[2][idx]\n",
    "\n",
    "# Assuming input_ids_tensor, attention_masks_tensor, and labels are already defined\n",
    "train_dataset = create_dataset(input_ids_tensor, attention_masks_tensor, labels, 0, 350)\n",
    "val_dataset = create_dataset(input_ids_tensor, attention_masks_tensor, labels, 350, len(input_ids_tensor))\n",
    "\n",
    "train_dataloader = DataLoader(train_dataset, batch_size=16, shuffle=True)\n",
    "val_dataloader = DataLoader(val_dataset, batch_size=16)\n",
    "\n",
    "# Example of accessing an item\n",
    "item = get_data_from_dataset(train_dataset, 0)  # Get the first item of the training dataset\n"
   ]
  },
  {
   "cell_type": "markdown",
   "metadata": {},
   "source": [
    "# Model"
   ]
  },
  {
   "cell_type": "code",
   "execution_count": 23,
   "metadata": {},
   "outputs": [
    {
     "name": "stderr",
     "output_type": "stream",
     "text": [
      "You are using a model of type distilbert to instantiate a model of type bert. This is not supported for all configurations of models and can yield errors.\n",
      "Some weights of BertForSequenceClassification were not initialized from the model checkpoint at medicalai/ClinicalBERT and are newly initialized: ['embeddings.position_embeddings.weight', 'encoder.layer.0.attention.self.query.bias', 'encoder.layer.3.output.LayerNorm.bias', 'encoder.layer.9.output.LayerNorm.bias', 'encoder.layer.0.attention.self.query.weight', 'encoder.layer.10.attention.self.value.weight', 'classifier.weight', 'encoder.layer.11.attention.self.value.bias', 'encoder.layer.9.output.LayerNorm.weight', 'encoder.layer.10.attention.output.dense.bias', 'encoder.layer.2.attention.self.value.weight', 'encoder.layer.2.attention.self.key.weight', 'encoder.layer.8.output.dense.weight', 'encoder.layer.6.attention.self.query.weight', 'encoder.layer.1.intermediate.dense.bias', 'encoder.layer.10.attention.output.LayerNorm.weight', 'encoder.layer.4.output.LayerNorm.weight', 'encoder.layer.4.attention.output.dense.weight', 'encoder.layer.2.intermediate.dense.bias', 'encoder.layer.10.output.dense.weight', 'encoder.layer.2.output.LayerNorm.weight', 'encoder.layer.10.output.LayerNorm.weight', 'encoder.layer.11.attention.self.key.weight', 'encoder.layer.0.attention.self.value.bias', 'encoder.layer.3.attention.self.value.weight', 'encoder.layer.9.intermediate.dense.bias', 'encoder.layer.10.attention.self.value.bias', 'encoder.layer.6.attention.self.query.bias', 'encoder.layer.9.attention.self.value.weight', 'encoder.layer.6.attention.output.LayerNorm.bias', 'encoder.layer.6.attention.self.value.bias', 'encoder.layer.6.attention.output.dense.weight', 'encoder.layer.6.intermediate.dense.bias', 'encoder.layer.4.attention.output.LayerNorm.bias', 'encoder.layer.5.output.dense.weight', 'encoder.layer.3.attention.self.key.bias', 'encoder.layer.2.attention.output.dense.weight', 'encoder.layer.7.attention.self.query.weight', 'encoder.layer.0.attention.self.key.weight', 'encoder.layer.9.attention.output.dense.weight', 'encoder.layer.5.intermediate.dense.weight', 'classifier.bias', 'encoder.layer.8.attention.output.LayerNorm.weight', 'encoder.layer.3.attention.self.key.weight', 'encoder.layer.6.attention.self.value.weight', 'encoder.layer.7.output.dense.weight', 'encoder.layer.10.attention.self.key.weight', 'embeddings.token_type_embeddings.weight', 'encoder.layer.1.output.LayerNorm.weight', 'encoder.layer.3.attention.output.LayerNorm.weight', 'encoder.layer.9.output.dense.bias', 'encoder.layer.2.attention.output.LayerNorm.bias', 'encoder.layer.8.attention.output.dense.weight', 'encoder.layer.0.output.LayerNorm.bias', 'encoder.layer.7.attention.self.value.bias', 'encoder.layer.7.intermediate.dense.weight', 'encoder.layer.1.output.dense.bias', 'encoder.layer.3.output.dense.weight', 'encoder.layer.8.intermediate.dense.bias', 'encoder.layer.7.output.dense.bias', 'encoder.layer.11.output.dense.bias', 'encoder.layer.5.attention.self.key.weight', 'encoder.layer.7.attention.self.key.weight', 'encoder.layer.9.attention.self.value.bias', 'encoder.layer.0.intermediate.dense.bias', 'encoder.layer.1.attention.output.LayerNorm.bias', 'encoder.layer.5.attention.self.key.bias', 'encoder.layer.0.output.dense.weight', 'encoder.layer.10.output.LayerNorm.bias', 'encoder.layer.8.attention.self.key.weight', 'encoder.layer.1.attention.self.key.weight', 'encoder.layer.3.intermediate.dense.weight', 'encoder.layer.6.attention.output.LayerNorm.weight', 'encoder.layer.7.attention.output.dense.bias', 'pooler.dense.weight', 'encoder.layer.3.attention.output.dense.weight', 'encoder.layer.8.attention.output.dense.bias', 'encoder.layer.7.intermediate.dense.bias', 'encoder.layer.2.attention.output.LayerNorm.weight', 'encoder.layer.5.output.dense.bias', 'encoder.layer.10.attention.self.query.bias', 'encoder.layer.1.attention.self.query.weight', 'embeddings.word_embeddings.weight', 'encoder.layer.6.output.LayerNorm.bias', 'encoder.layer.3.output.dense.bias', 'encoder.layer.5.attention.output.dense.weight', 'encoder.layer.9.attention.self.query.bias', 'encoder.layer.7.attention.output.LayerNorm.weight', 'encoder.layer.6.attention.output.dense.bias', 'encoder.layer.5.attention.self.value.weight', 'encoder.layer.2.output.dense.bias', 'encoder.layer.9.output.dense.weight', 'encoder.layer.9.attention.self.key.weight', 'encoder.layer.5.output.LayerNorm.weight', 'encoder.layer.5.intermediate.dense.bias', 'encoder.layer.11.attention.self.key.bias', 'encoder.layer.3.intermediate.dense.bias', 'encoder.layer.2.output.LayerNorm.bias', 'encoder.layer.8.output.dense.bias', 'encoder.layer.10.intermediate.dense.weight', 'encoder.layer.11.attention.output.LayerNorm.weight', 'encoder.layer.5.attention.self.query.weight', 'encoder.layer.5.attention.self.value.bias', 'encoder.layer.4.attention.self.key.weight', 'encoder.layer.3.attention.self.query.bias', 'encoder.layer.9.attention.output.LayerNorm.weight', 'encoder.layer.0.attention.output.dense.weight', 'encoder.layer.2.attention.self.query.weight', 'encoder.layer.1.attention.self.value.bias', 'encoder.layer.6.output.dense.bias', 'encoder.layer.11.attention.self.value.weight', 'encoder.layer.11.attention.self.query.bias', 'encoder.layer.1.output.LayerNorm.bias', 'encoder.layer.2.output.dense.weight', 'encoder.layer.3.attention.self.query.weight', 'encoder.layer.4.intermediate.dense.bias', 'embeddings.LayerNorm.bias', 'encoder.layer.4.attention.output.dense.bias', 'encoder.layer.1.attention.output.dense.weight', 'encoder.layer.11.output.dense.weight', 'encoder.layer.11.attention.output.LayerNorm.bias', 'encoder.layer.11.intermediate.dense.bias', 'encoder.layer.9.attention.self.query.weight', 'encoder.layer.10.attention.output.LayerNorm.bias', 'embeddings.LayerNorm.weight', 'encoder.layer.2.attention.self.value.bias', 'encoder.layer.8.intermediate.dense.weight', 'encoder.layer.0.attention.output.dense.bias', 'encoder.layer.7.attention.output.dense.weight', 'encoder.layer.10.attention.self.key.bias', 'encoder.layer.4.attention.self.query.bias', 'encoder.layer.5.output.LayerNorm.bias', 'encoder.layer.4.attention.self.key.bias', 'encoder.layer.8.attention.self.value.weight', 'encoder.layer.0.attention.output.LayerNorm.weight', 'encoder.layer.10.intermediate.dense.bias', 'encoder.layer.1.intermediate.dense.weight', 'encoder.layer.2.attention.self.query.bias', 'encoder.layer.5.attention.output.LayerNorm.weight', 'encoder.layer.1.attention.self.query.bias', 'encoder.layer.4.attention.self.value.bias', 'encoder.layer.4.output.dense.bias', 'encoder.layer.9.attention.self.key.bias', 'encoder.layer.10.attention.output.dense.weight', 'encoder.layer.9.intermediate.dense.weight', 'encoder.layer.11.output.LayerNorm.bias', 'encoder.layer.7.attention.output.LayerNorm.bias', 'encoder.layer.0.attention.self.key.bias', 'encoder.layer.6.output.LayerNorm.weight', 'encoder.layer.4.attention.output.LayerNorm.weight', 'encoder.layer.5.attention.output.dense.bias', 'encoder.layer.6.output.dense.weight', 'encoder.layer.7.attention.self.key.bias', 'encoder.layer.11.output.LayerNorm.weight', 'encoder.layer.4.attention.self.query.weight', 'encoder.layer.0.attention.self.value.weight', 'encoder.layer.1.output.dense.weight', 'encoder.layer.1.attention.output.dense.bias', 'encoder.layer.5.attention.output.LayerNorm.bias', 'encoder.layer.4.attention.self.value.weight', 'encoder.layer.6.intermediate.dense.weight', 'encoder.layer.3.output.LayerNorm.weight', 'encoder.layer.10.output.dense.bias', 'encoder.layer.8.attention.self.key.bias', 'encoder.layer.0.output.dense.bias', 'encoder.layer.7.attention.self.value.weight', 'encoder.layer.3.attention.output.LayerNorm.bias', 'encoder.layer.9.attention.output.LayerNorm.bias', 'encoder.layer.8.attention.self.value.bias', 'encoder.layer.11.attention.output.dense.bias', 'encoder.layer.0.intermediate.dense.weight', 'encoder.layer.1.attention.self.value.weight', 'encoder.layer.8.attention.output.LayerNorm.bias', 'encoder.layer.7.output.LayerNorm.bias', 'encoder.layer.7.output.LayerNorm.weight', 'encoder.layer.1.attention.self.key.bias', 'encoder.layer.5.attention.self.query.bias', 'encoder.layer.4.output.dense.weight', 'encoder.layer.4.output.LayerNorm.bias', 'encoder.layer.8.attention.self.query.weight', 'encoder.layer.11.attention.output.dense.weight', 'encoder.layer.2.attention.output.dense.bias', 'encoder.layer.6.attention.self.key.weight', 'encoder.layer.3.attention.self.value.bias', 'encoder.layer.8.attention.self.query.bias', 'encoder.layer.8.output.LayerNorm.bias', 'encoder.layer.1.attention.output.LayerNorm.weight', 'encoder.layer.3.attention.output.dense.bias', 'encoder.layer.0.attention.output.LayerNorm.bias', 'encoder.layer.4.intermediate.dense.weight', 'encoder.layer.6.attention.self.key.bias', 'encoder.layer.8.output.LayerNorm.weight', 'encoder.layer.9.attention.output.dense.bias', 'encoder.layer.11.attention.self.query.weight', 'pooler.dense.bias', 'encoder.layer.11.intermediate.dense.weight', 'encoder.layer.2.intermediate.dense.weight', 'encoder.layer.10.attention.self.query.weight', 'encoder.layer.0.output.LayerNorm.weight', 'encoder.layer.2.attention.self.key.bias', 'encoder.layer.7.attention.self.query.bias']\n",
      "You should probably TRAIN this model on a down-stream task to be able to use it for predictions and inference.\n"
     ]
    }
   ],
   "source": [
    "# Initialize the BERT-based model\n",
    "model_test = BertForSequenceClassification.from_pretrained(\n",
    "    \"medicalai/ClinicalBERT\",\n",
    "    num_labels=4,\n",
    ")"
   ]
  },
  {
   "cell_type": "code",
   "execution_count": 24,
   "metadata": {},
   "outputs": [
    {
     "name": "stdout",
     "output_type": "stream",
     "text": [
      "Using device: cuda\n"
     ]
    },
    {
     "data": {
      "text/plain": [
       "BertForSequenceClassification(\n",
       "  (bert): BertModel(\n",
       "    (embeddings): BertEmbeddings(\n",
       "      (word_embeddings): Embedding(119547, 768, padding_idx=0)\n",
       "      (position_embeddings): Embedding(512, 768)\n",
       "      (token_type_embeddings): Embedding(2, 768)\n",
       "      (LayerNorm): LayerNorm((768,), eps=1e-12, elementwise_affine=True)\n",
       "      (dropout): Dropout(p=0.1, inplace=False)\n",
       "    )\n",
       "    (encoder): BertEncoder(\n",
       "      (layer): ModuleList(\n",
       "        (0-11): 12 x BertLayer(\n",
       "          (attention): BertAttention(\n",
       "            (self): BertSelfAttention(\n",
       "              (query): Linear(in_features=768, out_features=768, bias=True)\n",
       "              (key): Linear(in_features=768, out_features=768, bias=True)\n",
       "              (value): Linear(in_features=768, out_features=768, bias=True)\n",
       "              (dropout): Dropout(p=0.1, inplace=False)\n",
       "            )\n",
       "            (output): BertSelfOutput(\n",
       "              (dense): Linear(in_features=768, out_features=768, bias=True)\n",
       "              (LayerNorm): LayerNorm((768,), eps=1e-12, elementwise_affine=True)\n",
       "              (dropout): Dropout(p=0.1, inplace=False)\n",
       "            )\n",
       "          )\n",
       "          (intermediate): BertIntermediate(\n",
       "            (dense): Linear(in_features=768, out_features=3072, bias=True)\n",
       "            (intermediate_act_fn): GELUActivation()\n",
       "          )\n",
       "          (output): BertOutput(\n",
       "            (dense): Linear(in_features=3072, out_features=768, bias=True)\n",
       "            (LayerNorm): LayerNorm((768,), eps=1e-12, elementwise_affine=True)\n",
       "            (dropout): Dropout(p=0.1, inplace=False)\n",
       "          )\n",
       "        )\n",
       "      )\n",
       "    )\n",
       "    (pooler): BertPooler(\n",
       "      (dense): Linear(in_features=768, out_features=768, bias=True)\n",
       "      (activation): Tanh()\n",
       "    )\n",
       "  )\n",
       "  (dropout): Dropout(p=0.1, inplace=False)\n",
       "  (classifier): Linear(in_features=768, out_features=4, bias=True)\n",
       ")"
      ]
     },
     "execution_count": 24,
     "metadata": {},
     "output_type": "execute_result"
    }
   ],
   "source": [
    "# Ensure GPU is available and set the device\n",
    "device = torch.device(\"cuda\" if torch.cuda.is_available() else \"cpu\")\n",
    "print(f\"Using device: {device}\")\n",
    "model_test.to(device)"
   ]
  },
  {
   "cell_type": "code",
   "execution_count": 25,
   "metadata": {},
   "outputs": [],
   "source": [
    "import torch\n",
    "torch.cuda.empty_cache()"
   ]
  },
  {
   "cell_type": "code",
   "execution_count": null,
   "metadata": {},
   "outputs": [],
   "source": [
    "from transformers import AdamW, get_linear_schedule_with_warmup\n",
    "import matplotlib.pyplot as plt\n",
    "\n",
    "num_epochs = 20\n",
    "\n",
    "total_steps = len(train_dataloader) * num_epochs\n",
    "num_warmup_steps = total_steps * 0.1  # 10% of total steps\n",
    "# print(len(train_dataloader)) # its 7\n",
    "# print(num_warmup_steps)\n",
    "\n",
    "# Define optimizer and learning rate scheduler\n",
    "optimizer = AdamW(model_test.parameters(), lr=2e-5, correct_bias=False)\n",
    "scheduler = get_linear_schedule_with_warmup(\n",
    "    optimizer, num_warmup_steps=70, num_training_steps=700\n",
    ")\n",
    "\n",
    "training_loss_values = []\n",
    "validation_loss_values = []\n",
    "\n",
    "\n",
    "# Training Loop with Evaluation\n",
    "for epoch in range(num_epochs):\n",
    "    model_test.train()  # Set model to training mode\n",
    "\n",
    "    # Monitor:\n",
    "    total_train_loss = 0\n",
    "    total_train_accuracy = 0\n",
    "    all_preds = []\n",
    "    all_labels = []\n",
    "\n",
    "    for batch in train_dataloader:\n",
    "        input_ids_batch, attention_masks_batch, labels_batch = batch\n",
    "        input_ids_batch = input_ids_batch.to(device)\n",
    "        attention_masks_batch = attention_masks_batch.to(device)\n",
    "        labels_batch = labels_batch.to(device)\n",
    "\n",
    "        model_test.zero_grad()  # Clear any previously calculated gradients\n",
    "\n",
    "        outputs = model_test(\n",
    "            input_ids_batch, attention_mask=attention_masks_batch, labels=labels_batch\n",
    "        )\n",
    "        logits = outputs.logits\n",
    "        loss = outputs.loss\n",
    "\n",
    "        total_train_loss += loss.item()\n",
    "        preds = torch.argmax(logits, dim=1).flatten()\n",
    "        total_train_accuracy += accuracy_score(labels_batch.cpu(), preds.cpu())\n",
    "        all_preds.extend(preds.cpu().numpy())\n",
    "        all_labels.extend(labels_batch.cpu().numpy())\n",
    "\n",
    "        loss.backward()  # Perform a backward pass to calculate the gradients\n",
    "        optimizer.step()  # Update params\n",
    "        scheduler.step()  # Adjust learning rate\n",
    "\n",
    "    avg_train_loss = total_train_loss / len(train_dataloader)\n",
    "    avg_train_accuracy = total_train_accuracy / len(train_dataloader)\n",
    "    training_loss_values.append(avg_train_loss)\n",
    "\n",
    "    train_precision = precision_score(\n",
    "        all_labels, all_preds, average=\"weighted\"\n",
    "    )  # considering imbalance\n",
    "    train_recall = recall_score(all_labels, all_preds, average=\"weighted\")\n",
    "    train_f1 = f1_score(all_labels, all_preds, average=\"weighted\")\n",
    "\n",
    "    print(f\"Epoch {epoch + 1}/{num_epochs}\")\n",
    "    print(f\"Training Loss: {avg_train_loss:.3f}, Accuracy: {avg_train_accuracy:.3f}\")\n",
    "    print(\n",
    "        f\"Precision: {train_precision:.3f}, Recall: {train_recall:.3f}, F1 Score: {train_f1:.3f}\"\n",
    "    )\n",
    "\n",
    "    # Validation Step\n",
    "    model_test.eval()\n",
    "    total_val_accuracy = 0\n",
    "    total_val_loss = 0\n",
    "    val_all_preds = []\n",
    "    val_all_labels = []\n",
    "\n",
    "    for batch in val_dataloader:\n",
    "        input_ids_batch, attention_masks_batch, labels_batch = batch\n",
    "        input_ids_batch = input_ids_batch.to(device)\n",
    "        attention_masks_batch = attention_masks_batch.to(device)\n",
    "        labels_batch = labels_batch.to(device)\n",
    "\n",
    "        with torch.no_grad():\n",
    "            outputs = model_test(\n",
    "                input_ids_batch,\n",
    "                attention_mask=attention_masks_batch,\n",
    "                labels=labels_batch,\n",
    "            )\n",
    "            loss = outputs.loss\n",
    "            logits = outputs.logits\n",
    "\n",
    "        total_val_loss += loss.item()\n",
    "        preds = torch.argmax(logits, dim=1).flatten()\n",
    "        total_val_accuracy += accuracy_score(labels_batch.cpu(), preds.cpu())\n",
    "        val_all_preds.extend(preds.cpu().numpy())\n",
    "        val_all_labels.extend(labels_batch.cpu().numpy())\n",
    "\n",
    "    avg_val_loss = total_val_loss / len(val_dataloader)\n",
    "    avg_val_accuracy = total_val_accuracy / len(val_dataloader)\n",
    "    validation_loss_values.append(avg_val_loss)\n",
    "\n",
    "    val_precision = precision_score(val_all_labels, val_all_preds, average=\"weighted\")\n",
    "    val_recall = recall_score(val_all_labels, val_all_preds, average=\"weighted\")\n",
    "    val_f1 = f1_score(val_all_labels, val_all_preds, average=\"weighted\")\n",
    "\n",
    "    print(f\"Validation Loss: {avg_val_loss:.3f}, Accuracy: {avg_val_accuracy:.3f}\")\n",
    "    print(\n",
    "        f\"Precision: {val_precision:.3f}, Recall: {val_recall:.3f}, F1 Score: {val_f1:.3f}\"\n",
    "    )\n",
    "\n",
    "# Plotting the training and validation loss after the training loop\n",
    "plt.plot(range(1, num_epochs + 1), training_loss_values, 'b-', label='Training loss')\n",
    "plt.plot(range(1, num_epochs + 1), validation_loss_values, 'r-', label='Validation loss')\n",
    "plt.title('Training and Validation Loss')\n",
    "plt.xlabel('Epochs')\n",
    "plt.ylabel('Loss')\n",
    "plt.legend()\n",
    "plt.show()"
   ]
  },
  {
   "cell_type": "code",
   "execution_count": 27,
   "metadata": {},
   "outputs": [
    {
     "name": "stdout",
     "output_type": "stream",
     "text": [
      "Model saved successfully.\n"
     ]
    }
   ],
   "source": [
    "import os\n",
    "\n",
    "# Save the model\n",
    "model_save_path = os.path.expanduser(\"/workspaces/NLP_Proj2/model_test_syn_23.pth\")\n",
    "\n",
    "# Create the directory if it does not exist\n",
    "model_save_directory = os.path.dirname(model_save_path)\n",
    "os.makedirs(model_save_directory, exist_ok=True)\n",
    "\n",
    "torch.save(model_test.state_dict(), model_save_path)\n",
    "print(\"Model saved successfully.\")"
   ]
  },
  {
   "cell_type": "markdown",
   "metadata": {},
   "source": [
    "The reason zero_grad() is called at the beginning of processing each batch is not to get rid of gradients permanently but to reset them. Without resetting gradients, they would accumulate across batches, leading to incorrect updates to the model weights."
   ]
  }
 ],
 "metadata": {
  "kernelspec": {
   "display_name": "dask_env",
   "language": "python",
   "name": "python3"
  },
  "language_info": {
   "codemirror_mode": {
    "name": "ipython",
    "version": 3
   },
   "file_extension": ".py",
   "mimetype": "text/x-python",
   "name": "python",
   "nbconvert_exporter": "python",
   "pygments_lexer": "ipython3",
   "version": "3.10.13"
  }
 },
 "nbformat": 4,
 "nbformat_minor": 2
}
